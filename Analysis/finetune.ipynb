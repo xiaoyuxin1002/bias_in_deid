{
 "cells": [
  {
   "cell_type": "code",
   "execution_count": 5,
   "id": "5ab06a8f",
   "metadata": {},
   "outputs": [],
   "source": [
    "import jsonlines\n",
    "import numpy as np\n",
    "from itertools import product\n",
    "from collections import defaultdict\n",
    "\n",
    "import seaborn as sns\n",
    "import matplotlib as mpl\n",
    "import matplotlib.pyplot as plt\n",
    "\n",
    "np.random.seed(1)\n",
    "mpl.rcParams['figure.dpi'] = 100\n",
    "mpl.rcParams['font.family'] = 'DeJavu Serif'"
   ]
  },
  {
   "cell_type": "code",
   "execution_count": 6,
   "id": "ded13ce6",
   "metadata": {},
   "outputs": [],
   "source": [
    "# meta data\n",
    "\n",
    "name_sets = {1: ['Top', 'Male', '2000s', 'White'],\n",
    "             2: ['Top', 'Female', '2000s', 'White'],\n",
    "             3: ['Medium', 'Male', '2000s', 'White'],\n",
    "             4: ['Medium', 'Female', '2000s', 'White'],\n",
    "             5: ['Bottom', 'Male', '2000s', 'White'],\n",
    "             6: ['Bottom', 'Female', '2000s', 'White'],\n",
    "             7: ['Medium', 'Male', '2000s', 'Black'],\n",
    "             8: ['Medium', 'Female', '2000s', 'Black'],\n",
    "             9: ['Medium', 'Male', '2000s', 'Asian'],\n",
    "             10: ['Medium', 'Female', '2000s', 'Asian'],\n",
    "             11: ['Medium', 'Male', '2000s', 'Hispanic'],\n",
    "             12: ['Medium', 'Female', '2000s', 'Hispanic'],\n",
    "             13: ['Top', 'Male', '1970s', 'White'],\n",
    "             14: ['Top', 'Female', '1970s', 'White'],\n",
    "             15: ['Top', 'Male', '1940s', 'White'],\n",
    "             16: ['Top', 'Female', '1940s', 'White']}\n",
    "\n",
    "dimensions = {'Gender': {'Male':[1,3,5,7,9,11,13,15], 'Female':[2,4,6,8,10,12,14,16]},\n",
    "              'Race': {'White':[3,4], 'Black':[7,8], 'Asian':[9,10], 'Hispanic':[11,12]},\n",
    "              'Popularity': {'Top':[1,2], 'Medium':[3,4], 'Bottom':[5,6]},\n",
    "              'Decade': {'2000s':[1,2], '1970s':[13,14], '1940s':[15,16]}}"
   ]
  },
  {
   "cell_type": "code",
   "execution_count": 7,
   "id": "d0921588",
   "metadata": {},
   "outputs": [],
   "source": [
    "# load the labels\n",
    "\n",
    "labels = defaultdict(dict)\n",
    "with jsonlines.open('../Data/Finetune/Input/labels-test.jsonl', 'r') as reader:\n",
    "    for line in reader:\n",
    "        ID, position, name = map(lambda x:tuple(x), line.values())\n",
    "        labels[ID][position] = name"
   ]
  },
  {
   "cell_type": "code",
   "execution_count": 8,
   "id": "683cb656",
   "metadata": {},
   "outputs": [],
   "source": [
    "# load the predictions\n",
    "\n",
    "models = ['spaCy', 'NeuroNER']\n",
    "types_context, types_name, seeds = ['clinical', 'general'], ['diverse', 'popular'], [0, 1, 2, 3, 4]\n",
    "setups = [('original', 'original')] + list(product(types_context, types_name, seeds))\n",
    "preds = defaultdict(lambda: defaultdict(lambda: defaultdict(dict)))\n",
    "\n",
    "for model in models:\n",
    "    for setup in setups:\n",
    "        postfix = f'{setup[0]}+{setup[1]}-{model}'\n",
    "        if setup != ('original', 'original'): postfix += f'-{setup[2]}'\n",
    "        with jsonlines.open(f'../Data/Finetune/Output/finetunes-{postfix}.jsonl', 'r') as reader:\n",
    "            for line in reader:\n",
    "                ID, position, name = map(lambda x:tuple(x), line.values())\n",
    "                preds[model][setup][ID][position] = name"
   ]
  },
  {
   "cell_type": "markdown",
   "id": "134fbed2",
   "metadata": {},
   "source": [
    "### Model: Each Model under Each Setup\n",
    "\n",
    "- Model & Setup: Overall Precision, Overall Recall, Overall F1, Standard Error"
   ]
  },
  {
   "cell_type": "code",
   "execution_count": 9,
   "id": "e31ba04c",
   "metadata": {},
   "outputs": [],
   "source": [
    "# get the vectorized raw prediction results\n",
    "\n",
    "def aggregate(model, setup):\n",
    "    \n",
    "    vec_labels, vec_preds = [], []\n",
    "    for ID, mentions in labels.items():\n",
    "        for position, (name, _, _) in mentions.items():\n",
    "            vec_labels.append(1)\n",
    "            if position in preds[model][setup][ID] and name == preds[model][setup][ID][position][0]: vec_preds.append(1)\n",
    "            else: vec_preds.append(0)\n",
    "                \n",
    "    for ID, mentions in preds[model][setup].items():\n",
    "        for position in mentions:\n",
    "            if position not in labels[ID]:\n",
    "                vec_labels.append(0); vec_preds.append(1)\n",
    "                \n",
    "    return np.array(vec_labels), np.array(vec_preds)"
   ]
  },
  {
   "cell_type": "code",
   "execution_count": 10,
   "id": "8ab15041",
   "metadata": {},
   "outputs": [
    {
     "name": "stdout",
     "output_type": "stream",
     "text": [
      "Model: spaCy\n",
      "Setup: original context & original name | Precision: 0.916 +- 0.000 | Recall: 0.623 +- 0.000 | F1: 0.741 +- 0.000\n",
      "Setup: clinical context & diverse name | Precision: 0.990 +- 0.007 | Recall: 0.950 +- 0.006 | F1: 0.969 +- 0.002\n",
      "Setup: clinical context & popular name | Precision: 0.998 +- 0.004 | Recall: 0.737 +- 0.072 | F1: 0.846 +- 0.046\n",
      "Setup: general context & diverse name | Precision: 0.915 +- 0.072 | Recall: 0.830 +- 0.083 | F1: 0.864 +- 0.035\n",
      "Setup: general context & popular name | Precision: 0.873 +- 0.110 | Recall: 0.492 +- 0.069 | F1: 0.629 +- 0.083\n",
      "Model: NeuroNER\n",
      "Setup: original context & original name | Precision: 0.955 +- 0.000 | Recall: 0.953 +- 0.000 | F1: 0.954 +- 0.000\n",
      "Setup: clinical context & diverse name | Precision: 0.978 +- 0.014 | Recall: 0.978 +- 0.009 | F1: 0.978 +- 0.005\n",
      "Setup: clinical context & popular name | Precision: 0.989 +- 0.003 | Recall: 0.865 +- 0.021 | F1: 0.923 +- 0.013\n",
      "Setup: general context & diverse name | Precision: 0.958 +- 0.022 | Recall: 0.943 +- 0.029 | F1: 0.950 +- 0.010\n",
      "Setup: general context & popular name | Precision: 0.924 +- 0.022 | Recall: 0.777 +- 0.018 | F1: 0.844 +- 0.019\n"
     ]
    }
   ],
   "source": [
    "P, R, F = 'Precision', 'Recall', 'F1'\n",
    "scores = defaultdict(lambda: defaultdict(lambda: defaultdict(list)))\n",
    "for model in models:\n",
    "    print(f'Model: {model}')\n",
    "    for setup in setups:\n",
    "        vec_labels, vec_preds = aggregate(model, setup)\n",
    "        tp, fp, fn = (vec_labels&vec_preds).sum(), ((~vec_labels)&vec_preds).sum(), (vec_labels&(~vec_preds)).sum()\n",
    "        p, r, f = tp/(tp+fp), tp/(tp+fn), 2*tp/(2*tp+fp+fn)\n",
    "        for metric, score in zip([P,R,F], [p,r,f]):\n",
    "            scores[model][(setup[0], setup[1])][metric].append(score)\n",
    "    for setup in scores[model]:\n",
    "        print(f'Setup: {setup[0]} context & {setup[1]} name | ' + ' | '.join([f'{metric}: {np.mean(score):.3f} +- {np.std(score):.3f}' for metric, score in scores[model][setup].items()]))"
   ]
  },
  {
   "cell_type": "markdown",
   "id": "4c7b5066",
   "metadata": {},
   "source": [
    "### Name: Each Dimension\n",
    "\n",
    "- Dimension vs (Model * Setup): Mean of Absolute Difference in Recall, Standard Error"
   ]
  },
  {
   "cell_type": "code",
   "execution_count": 11,
   "id": "2fbc6f22",
   "metadata": {},
   "outputs": [],
   "source": [
    "# collect the raw data (TP or FN)\n",
    "\n",
    "set2model2setup2raw = defaultdict(lambda: defaultdict(lambda: defaultdict(list)))\n",
    "for ID, mentions in labels.items():\n",
    "    for position, (name, _, set_) in mentions.items():\n",
    "        for model in models:\n",
    "            for setup in setups:\n",
    "                if position in preds[model][setup][ID] and name == preds[model][setup][ID][position][0]: # true positive\n",
    "                    set2model2setup2raw[set_][model][setup].append(1)\n",
    "                else: # false negative\n",
    "                    set2model2setup2raw[set_][model][setup].append(0)"
   ]
  },
  {
   "cell_type": "code",
   "execution_count": 12,
   "id": "89a26f0e",
   "metadata": {},
   "outputs": [],
   "source": [
    "# merge the raw data by group\n",
    "\n",
    "dimension2group2model2setup2raw = defaultdict(lambda: defaultdict(lambda: defaultdict(lambda: defaultdict(list))))\n",
    "for dimension, group2sets in dimensions.items():\n",
    "    for group, sets in group2sets.items():\n",
    "        for model in models:\n",
    "            for setup in setups:\n",
    "                for set_ in sets:\n",
    "                    dimension2group2model2setup2raw[dimension][group][model][setup] += set2model2setup2raw[set_][model][setup]\n",
    "                dimension2group2model2setup2raw[dimension][group][model][setup] = np.array(dimension2group2model2setup2raw[dimension][group][model][setup])"
   ]
  },
  {
   "cell_type": "code",
   "execution_count": 13,
   "id": "77887c63",
   "metadata": {},
   "outputs": [
    {
     "name": "stdout",
     "output_type": "stream",
     "text": [
      "\n",
      "Gender\n",
      "Model: spaCy | Setup: original context & original name | Recall Equality Difference: 0.003 +- 0.000\n",
      "Model: spaCy | Setup: clinical context & diverse name | Recall Equality Difference: 0.012 +- 0.004\n",
      "Model: spaCy | Setup: clinical context & popular name | Recall Equality Difference: 0.012 +- 0.007\n",
      "Model: spaCy | Setup: general context & diverse name | Recall Equality Difference: 0.036 +- 0.005\n",
      "Model: spaCy | Setup: general context & popular name | Recall Equality Difference: 0.010 +- 0.003\n",
      "Model: NeuroNER | Setup: original context & original name | Recall Equality Difference: 0.005 +- 0.000\n",
      "Model: NeuroNER | Setup: clinical context & diverse name | Recall Equality Difference: 0.007 +- 0.001\n",
      "Model: NeuroNER | Setup: clinical context & popular name | Recall Equality Difference: 0.008 +- 0.004\n",
      "Model: NeuroNER | Setup: general context & diverse name | Recall Equality Difference: 0.016 +- 0.007\n",
      "Model: NeuroNER | Setup: general context & popular name | Recall Equality Difference: 0.003 +- 0.001\n",
      "\n",
      "Race\n",
      "Model: spaCy | Setup: original context & original name | Recall Equality Difference: 0.027 +- 0.000\n",
      "Model: spaCy | Setup: clinical context & diverse name | Recall Equality Difference: 0.024 +- 0.005\n",
      "Model: spaCy | Setup: clinical context & popular name | Recall Equality Difference: 0.094 +- 0.029\n",
      "Model: spaCy | Setup: general context & diverse name | Recall Equality Difference: 0.071 +- 0.011\n",
      "Model: spaCy | Setup: general context & popular name | Recall Equality Difference: 0.059 +- 0.032\n",
      "Model: NeuroNER | Setup: original context & original name | Recall Equality Difference: 0.044 +- 0.000\n",
      "Model: NeuroNER | Setup: clinical context & diverse name | Recall Equality Difference: 0.019 +- 0.006\n",
      "Model: NeuroNER | Setup: clinical context & popular name | Recall Equality Difference: 0.065 +- 0.007\n",
      "Model: NeuroNER | Setup: general context & diverse name | Recall Equality Difference: 0.041 +- 0.010\n",
      "Model: NeuroNER | Setup: general context & popular name | Recall Equality Difference: 0.062 +- 0.005\n",
      "\n",
      "Popularity\n",
      "Model: spaCy | Setup: original context & original name | Recall Equality Difference: 0.025 +- 0.000\n",
      "Model: spaCy | Setup: clinical context & diverse name | Recall Equality Difference: 0.005 +- 0.002\n",
      "Model: spaCy | Setup: clinical context & popular name | Recall Equality Difference: 0.127 +- 0.035\n",
      "Model: spaCy | Setup: general context & diverse name | Recall Equality Difference: 0.049 +- 0.042\n",
      "Model: spaCy | Setup: general context & popular name | Recall Equality Difference: 0.326 +- 0.060\n",
      "Model: NeuroNER | Setup: original context & original name | Recall Equality Difference: 0.030 +- 0.000\n",
      "Model: NeuroNER | Setup: clinical context & diverse name | Recall Equality Difference: 0.012 +- 0.008\n",
      "Model: NeuroNER | Setup: clinical context & popular name | Recall Equality Difference: 0.118 +- 0.010\n",
      "Model: NeuroNER | Setup: general context & diverse name | Recall Equality Difference: 0.031 +- 0.014\n",
      "Model: NeuroNER | Setup: general context & popular name | Recall Equality Difference: 0.324 +- 0.021\n",
      "\n",
      "Decade\n",
      "Model: spaCy | Setup: original context & original name | Recall Equality Difference: 0.005 +- 0.000\n",
      "Model: spaCy | Setup: clinical context & diverse name | Recall Equality Difference: 0.006 +- 0.001\n",
      "Model: spaCy | Setup: clinical context & popular name | Recall Equality Difference: 0.003 +- 0.004\n",
      "Model: spaCy | Setup: general context & diverse name | Recall Equality Difference: 0.008 +- 0.005\n",
      "Model: spaCy | Setup: general context & popular name | Recall Equality Difference: 0.007 +- 0.003\n",
      "Model: NeuroNER | Setup: original context & original name | Recall Equality Difference: 0.001 +- 0.000\n",
      "Model: NeuroNER | Setup: clinical context & diverse name | Recall Equality Difference: 0.002 +- 0.001\n",
      "Model: NeuroNER | Setup: clinical context & popular name | Recall Equality Difference: 0.001 +- 0.001\n",
      "Model: NeuroNER | Setup: general context & diverse name | Recall Equality Difference: 0.007 +- 0.006\n",
      "Model: NeuroNER | Setup: general context & popular name | Recall Equality Difference: 0.004 +- 0.003\n"
     ]
    }
   ],
   "source": [
    "# calculate the recall equality difference and standard error of each (model, dimension)\n",
    "\n",
    "for dim, group2model2setup2raw in dimension2group2model2setup2raw.items():\n",
    "    print()\n",
    "    print(dim)\n",
    "    \n",
    "    for model in models:\n",
    "        setup2diff = defaultdict(list)\n",
    "        for setup in setups:\n",
    "            group2raw = np.stack([group2model2setup2raw[group][model][setup] for group in dimensions[dim]])\n",
    "            setup2diff[(setup[0], setup[1])].append(np.abs(group2raw.mean(-1) - group2raw.mean()).mean())\n",
    "            \n",
    "        for setup, diff in setup2diff.items():\n",
    "            print(f'Model: {model} | Setup: {setup[0]} context & {setup[1]} name | Recall Equality Difference: {np.mean(diff):.3f} +- {np.std(diff):.3f}')"
   ]
  }
 ],
 "metadata": {
  "kernelspec": {
   "display_name": "Python 3 (ipykernel)",
   "language": "python",
   "name": "python3"
  },
  "language_info": {
   "codemirror_mode": {
    "name": "ipython",
    "version": 3
   },
   "file_extension": ".py",
   "mimetype": "text/x-python",
   "name": "python",
   "nbconvert_exporter": "python",
   "pygments_lexer": "ipython3",
   "version": "3.10.9"
  }
 },
 "nbformat": 4,
 "nbformat_minor": 5
}
