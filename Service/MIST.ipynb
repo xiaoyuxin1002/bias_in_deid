{
 "cells": [
  {
   "cell_type": "code",
   "execution_count": 1,
   "id": "7ac0ec97",
   "metadata": {},
   "outputs": [],
   "source": [
    "import os\n",
    "import json\n",
    "import jsonlines\n",
    "from collections import defaultdict"
   ]
  },
  {
   "cell_type": "markdown",
   "id": "7055e5da",
   "metadata": {},
   "source": [
    "### General Evaluation"
   ]
  },
  {
   "cell_type": "code",
   "execution_count": 2,
   "id": "e8bd1f0e",
   "metadata": {},
   "outputs": [],
   "source": [
    "# load the inputs\n",
    "\n",
    "notes = {}\n",
    "with jsonlines.open('../Data/General/Input/notes-input.jsonl', 'r') as reader:\n",
    "    for line in reader:\n",
    "        notes[tuple(line['ID'])] = line['note']\n",
    "        with open('External/MIST/Data/General/Input/' + '_'.join(map(str, line['ID'])) + '.txt', 'w') as file:\n",
    "            file.write(line['note'])"
   ]
  },
  {
   "cell_type": "code",
   "execution_count": null,
   "id": "cded7622",
   "metadata": {},
   "outputs": [],
   "source": [
    "# load the model, make predictions\n",
    "\n",
    "!python2 External/MIST/Model/src/tasks/AMIA/utils/split_AMIA_file.py \\\n",
    "--extend_dates \\\n",
    "--promote_type_attr External/MIST/Data/deid_surrogate_train_all_version2.xml External/MIST/Data/i2b2_2006\n",
    "\n",
    "!External/MIST/Model/src/MAT/bin/MATEngine \\\n",
    "--task \"AMIA Deidentification\" \\\n",
    "--input_dir External/MIST/Data/i2b2_2006 \\\n",
    "--input_file_re \".*[.]xml\" \\\n",
    "--input_file_type xml-inline \\\n",
    "--workflow \"Process tagged untokenized docs\" \\\n",
    "--steps \"zone and align\" \\\n",
    "--output_dir External/MIST/Data/i2b2_2006_json \\\n",
    "--output_file_type mat-json \\\n",
    "--output_fsuff \".json\"\n",
    "\n",
    "!External/MIST/Model/src/MAT/bin/MATModelBuilder \\\n",
    "--task 'AMIA Deidentification' \\\n",
    "--input_files 'External/MIST/Data/i2b2_2006_json/*.json' \\\n",
    "--file_type mat-json \\\n",
    "--save_as_default_model\n",
    "\n",
    "!External/MIST/Model/src/MAT/bin/MATEngine \\\n",
    "--task 'AMIA Deidentification' \\\n",
    "--workflow Demo \\\n",
    "--steps 'zone,tag' \\\n",
    "--input_dir External/MIST/Data/General/Input \\\n",
    "--input_file_type raw \\\n",
    "--input_encoding utf-8 \\\n",
    "--output_dir External/MIST/Data/General/Output \\\n",
    "--output_fsuff \".json\" \\\n",
    "--output_file_type mat-json \\\n",
    "--output_encoding utf-8 \\\n",
    "--tagger_local"
   ]
  },
  {
   "cell_type": "code",
   "execution_count": 5,
   "id": "b0a2b6a8",
   "metadata": {},
   "outputs": [
    {
     "name": "stdout",
     "output_type": "stream",
     "text": [
      "Finish Processing Note 0\n",
      "Finish Processing Note 1000\n",
      "Finish Processing Note 2000\n",
      "Finish Processing Note 3000\n",
      "Finish Processing Note 4000\n",
      "Finish Processing Note 5000\n",
      "Finish Processing Note 6000\n",
      "Finish Processing Note 7000\n",
      "Finish Processing Note 8000\n",
      "Finish Processing Note 9000\n",
      "Finish Processing Note 10000\n",
      "Finish Processing Note 11000\n",
      "Finish Processing Note 12000\n",
      "Finish Processing Note 13000\n",
      "Finish Processing Note 14000\n",
      "Finish Processing Note 15000\n"
     ]
    }
   ],
   "source": [
    "# load predictions\n",
    "\n",
    "outputs = defaultdict(dict)\n",
    "for count, filename in enumerate(os.listdir('External/MIST/Data/General/Output')):\n",
    "    \n",
    "    ID = tuple(map(int, filename[:-9].split('_')))\n",
    "    output = json.load(open(f'External/MIST/Data/General/Output/{filename}', 'r'))\n",
    "    \n",
    "    for ent_type in output['asets']:\n",
    "        if ent_type['type'] in {'DOCTOR', 'PATIENT'}:\n",
    "            for ent in ent_type['annots']:\n",
    "                outputs[ID][(ent[0], ent[1])] = output['signal'][ent[0]:ent[1]]\n",
    "        \n",
    "    if count % 1000 == 0: print(f'Finish Processing Note {count}')"
   ]
  },
  {
   "cell_type": "code",
   "execution_count": 6,
   "id": "95cc4373",
   "metadata": {},
   "outputs": [],
   "source": [
    "# save the outputs\n",
    "\n",
    "with jsonlines.open('../Data/General/Output/notes-MIST.jsonl', 'w') as writer:\n",
    "    writer.write_all([{'ID':list(ID), 'position':list(position), 'name':[name]} for ID, preds in outputs.items() for position, name in preds.items()])"
   ]
  },
  {
   "cell_type": "markdown",
   "id": "de22074e",
   "metadata": {},
   "source": [
    "### Polysemy Evaluation"
   ]
  },
  {
   "cell_type": "code",
   "execution_count": 2,
   "id": "09c213b4",
   "metadata": {},
   "outputs": [],
   "source": [
    "# load the inputs\n",
    "\n",
    "notes = {}\n",
    "with jsonlines.open('../Data/Polysemy/Input/polysemies-input.jsonl', 'r') as reader:\n",
    "    for line in reader:\n",
    "        notes[tuple(line['ID'])] = line['note']\n",
    "        with open('External/MIST/Data/Polysemy/Input/' + '_'.join(map(str, line['ID'])) + '.txt', 'w') as file:\n",
    "            file.write(line['note'])"
   ]
  },
  {
   "cell_type": "code",
   "execution_count": null,
   "id": "a5710022",
   "metadata": {},
   "outputs": [],
   "source": [
    "# load the model, make predictions\n",
    "\n",
    "!python2 External/MIST/Model/src/tasks/AMIA/utils/split_AMIA_file.py \\\n",
    "--extend_dates \\\n",
    "--promote_type_attr External/MIST/Data/deid_surrogate_train_all_version2.xml External/MIST/Data/i2b2_2006\n",
    "\n",
    "!External/MIST/Model/src/MAT/bin/MATEngine \\\n",
    "--task \"AMIA Deidentification\" \\\n",
    "--input_dir External/MIST/Data/i2b2_2006 \\\n",
    "--input_file_re \".*[.]xml\" \\\n",
    "--input_file_type xml-inline \\\n",
    "--workflow \"Process tagged untokenized docs\" \\\n",
    "--steps \"zone and align\" \\\n",
    "--output_dir External/MIST/Data/i2b2_2006_json \\\n",
    "--output_file_type mat-json \\\n",
    "--output_fsuff \".json\"\n",
    "\n",
    "!External/MIST/Model/src/MAT/bin/MATModelBuilder \\\n",
    "--task 'AMIA Deidentification' \\\n",
    "--input_files 'External/MIST/Data/i2b2_2006_json/*.json' \\\n",
    "--file_type mat-json \\\n",
    "--save_as_default_model\n",
    "\n",
    "!External/MIST/Model/src/MAT/bin/MATEngine \\\n",
    "--task 'AMIA Deidentification' \\\n",
    "--workflow Demo \\\n",
    "--steps 'zone,tag' \\\n",
    "--input_dir External/MIST/Data/Polysemy/Input \\\n",
    "--input_file_type raw \\\n",
    "--input_encoding utf-8 \\\n",
    "--output_dir External/MIST/Data/Polysemy/Output \\\n",
    "--output_fsuff \".json\" \\\n",
    "--output_file_type mat-json \\\n",
    "--output_encoding utf-8 \\\n",
    "--tagger_local"
   ]
  },
  {
   "cell_type": "code",
   "execution_count": 7,
   "id": "e0b20df3",
   "metadata": {},
   "outputs": [
    {
     "name": "stdout",
     "output_type": "stream",
     "text": [
      "Finish Processing Note 0\n",
      "Finish Processing Note 100\n",
      "Finish Processing Note 200\n"
     ]
    }
   ],
   "source": [
    "# load predictions\n",
    "\n",
    "outputs = defaultdict(dict)\n",
    "for count, filename in enumerate(os.listdir('External/MIST/Data/Polysemy/Output')):\n",
    "    \n",
    "    ID = tuple(map(int, filename[:-9].split('_')))\n",
    "    output = json.load(open(f'External/MIST/Data/Polysemy/Output/{filename}', 'r'))\n",
    "    \n",
    "    for ent_type in output['asets']:\n",
    "        if ent_type['type'] in {'DOCTOR', 'PATIENT'}:\n",
    "            for ent in ent_type['annots']:\n",
    "                outputs[ID][(ent[0], ent[1])] = output['signal'][ent[0]:ent[1]]\n",
    "        \n",
    "    if count % 100 == 0: print(f'Finish Processing Note {count}')"
   ]
  },
  {
   "cell_type": "code",
   "execution_count": 8,
   "id": "ebeabf94",
   "metadata": {},
   "outputs": [],
   "source": [
    "# save the outputs\n",
    "\n",
    "with jsonlines.open('../Data/Polysemy/Output/polysemies-MIST.jsonl', 'w') as writer:\n",
    "    writer.write_all([{'ID':list(ID), 'position':list(position), 'name':[name]} for ID, preds in outputs.items() for position, name in preds.items()])"
   ]
  }
 ],
 "metadata": {
  "kernelspec": {
   "display_name": "Python 3 (ipykernel)",
   "language": "python",
   "name": "python3"
  },
  "language_info": {
   "codemirror_mode": {
    "name": "ipython",
    "version": 3
   },
   "file_extension": ".py",
   "mimetype": "text/x-python",
   "name": "python",
   "nbconvert_exporter": "python",
   "pygments_lexer": "ipython3",
   "version": "3.10.9"
  }
 },
 "nbformat": 4,
 "nbformat_minor": 5
}
