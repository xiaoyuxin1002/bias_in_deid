{
 "cells": [
  {
   "cell_type": "code",
   "execution_count": 1,
   "id": "a64b2e07",
   "metadata": {},
   "outputs": [],
   "source": [
    "import os\n",
    "import jsonlines\n",
    "from xml.dom import minidom\n",
    "from collections import defaultdict"
   ]
  },
  {
   "cell_type": "markdown",
   "id": "32d6f70e",
   "metadata": {},
   "source": [
    "### General Evaluation"
   ]
  },
  {
   "cell_type": "code",
   "execution_count": 2,
   "id": "12aa5333",
   "metadata": {},
   "outputs": [],
   "source": [
    "# load the inputs\n",
    "\n",
    "notes = {}\n",
    "with jsonlines.open('../Data/General/Input/notes-input.jsonl', 'r') as reader:\n",
    "    for line in reader:\n",
    "        notes[tuple(line['ID'])] = line['note']\n",
    "        with open('External/Philter/Data/General/Input/' + '_'.join(map(str, line['ID'])) + '.txt', 'w') as file:\n",
    "            file.write(line['note'])"
   ]
  },
  {
   "cell_type": "code",
   "execution_count": null,
   "id": "9a8ac9d7",
   "metadata": {},
   "outputs": [],
   "source": [
    "# load the model, make predictions\n",
    "\n",
    "!(cd External/Philter/Model && \\\n",
    "  python3 main.py \\\n",
    "  -i ../Data/General/Input/ \\\n",
    "  -o ../Data/General/Output/ \\\n",
    "  -f configs/philter_delta_phi_tags.json \\\n",
    "  --prod=True)"
   ]
  },
  {
   "cell_type": "code",
   "execution_count": 4,
   "id": "ca7bac9a",
   "metadata": {},
   "outputs": [
    {
     "name": "stdout",
     "output_type": "stream",
     "text": [
      "Finish Processing Note 0\n",
      "Finish Processing Note 1000\n",
      "Finish Processing Note 2000\n",
      "Finish Processing Note 3000\n",
      "Finish Processing Note 4000\n",
      "Finish Processing Note 5000\n",
      "Finish Processing Note 6000\n",
      "Finish Processing Note 7000\n",
      "Finish Processing Note 8000\n",
      "Finish Processing Note 9000\n",
      "Finish Processing Note 10000\n",
      "Finish Processing Note 11000\n",
      "Finish Processing Note 12000\n",
      "Finish Processing Note 13000\n",
      "Finish Processing Note 14000\n",
      "Finish Processing Note 15000\n"
     ]
    }
   ],
   "source": [
    "# load predictions\n",
    "\n",
    "outputs = defaultdict(dict)\n",
    "for count, filename in enumerate(os.listdir('External/Philter/Data/General/Output')):\n",
    "    \n",
    "    ID = tuple(map(int, filename[:-4].split('_')))\n",
    "    entities = minidom.parse(f'External/Philter/Data/General/Output/{filename}').getElementsByTagName('NAME')\n",
    "    \n",
    "    for ent in entities:\n",
    "        outputs[ID][(int(ent.getAttribute('start')), int(ent.getAttribute('end')))] = ent.getAttribute('text')\n",
    "        \n",
    "    if count % 1000 == 0: print(f'Finish Processing Note {count}')"
   ]
  },
  {
   "cell_type": "code",
   "execution_count": 5,
   "id": "0ef3c000",
   "metadata": {},
   "outputs": [],
   "source": [
    "# save the outputs\n",
    "\n",
    "with jsonlines.open('../Data/General/Output/notes-Philter.jsonl', 'w') as writer:\n",
    "    writer.write_all([{'ID':list(ID), 'position':list(position), 'name':[name]} for ID, preds in outputs.items() for position, name in preds.items()])"
   ]
  },
  {
   "cell_type": "markdown",
   "id": "f63a79bd",
   "metadata": {},
   "source": [
    "### Polysemy Evaluation"
   ]
  },
  {
   "cell_type": "code",
   "execution_count": 2,
   "id": "b574ce74",
   "metadata": {},
   "outputs": [],
   "source": [
    "# load the inputs\n",
    "\n",
    "notes = {}\n",
    "with jsonlines.open('../Data/Polysemy/Input/polysemies-input.jsonl', 'r') as reader:\n",
    "    for line in reader:\n",
    "        notes[tuple(line['ID'])] = line['note']\n",
    "        with open('External/Philter/Data/Polysemy/Input/' + '_'.join(map(str, line['ID'])) + '.txt', 'w') as file:\n",
    "            file.write(line['note'])"
   ]
  },
  {
   "cell_type": "code",
   "execution_count": null,
   "id": "2c997543",
   "metadata": {},
   "outputs": [],
   "source": [
    "# load the model, make predictions\n",
    "\n",
    "!(cd External/Philter/Model && \\\n",
    "  python3 main.py \\\n",
    "  -i ../Data/Polysemy/Input/ \\\n",
    "  -o ../Data/Polysemy/Output/ \\\n",
    "  -f configs/philter_delta_phi_tags.json \\\n",
    "  --prod=True)"
   ]
  },
  {
   "cell_type": "code",
   "execution_count": 4,
   "id": "987d87c1",
   "metadata": {},
   "outputs": [
    {
     "name": "stdout",
     "output_type": "stream",
     "text": [
      "Finish Processing Note 0\n",
      "Finish Processing Note 100\n",
      "Finish Processing Note 200\n"
     ]
    }
   ],
   "source": [
    "# load predictions\n",
    "\n",
    "outputs = defaultdict(dict)\n",
    "for count, filename in enumerate(os.listdir('External/Philter/Data/Polysemy/Output')):\n",
    "    \n",
    "    ID = tuple(map(int, filename[:-4].split('_')))\n",
    "    entities = minidom.parse(f'External/Philter/Data/Polysemy/Output/{filename}').getElementsByTagName('NAME')\n",
    "    \n",
    "    for ent in entities:\n",
    "        outputs[ID][(int(ent.getAttribute('start')), int(ent.getAttribute('end')))] = ent.getAttribute('text')\n",
    "        \n",
    "    if count % 100 == 0: print(f'Finish Processing Note {count}')"
   ]
  },
  {
   "cell_type": "code",
   "execution_count": 5,
   "id": "b5d435aa",
   "metadata": {},
   "outputs": [],
   "source": [
    "# save the outputs\n",
    "\n",
    "with jsonlines.open('../Data/Polysemy/Output/polysemies-Philter.jsonl', 'w') as writer:\n",
    "    writer.write_all([{'ID':list(ID), 'position':list(position), 'name':[name]} for ID, preds in outputs.items() for position, name in preds.items()])"
   ]
  }
 ],
 "metadata": {
  "kernelspec": {
   "display_name": "Python 3 (ipykernel)",
   "language": "python",
   "name": "python3"
  },
  "language_info": {
   "codemirror_mode": {
    "name": "ipython",
    "version": 3
   },
   "file_extension": ".py",
   "mimetype": "text/x-python",
   "name": "python",
   "nbconvert_exporter": "python",
   "pygments_lexer": "ipython3",
   "version": "3.10.9"
  }
 },
 "nbformat": 4,
 "nbformat_minor": 5
}
