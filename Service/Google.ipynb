{
 "cells": [
  {
   "cell_type": "code",
   "execution_count": 1,
   "id": "14e8d54d",
   "metadata": {},
   "outputs": [],
   "source": [
    "import os\n",
    "import textwrap\n",
    "import jsonlines\n",
    "from google.cloud import dlp_v2\n",
    "from collections import defaultdict"
   ]
  },
  {
   "cell_type": "markdown",
   "id": "a5b45a54",
   "metadata": {},
   "source": [
    "### General Evaluation"
   ]
  },
  {
   "cell_type": "code",
   "execution_count": 2,
   "id": "b8b42e47",
   "metadata": {},
   "outputs": [],
   "source": [
    "# load the inputs\n",
    "\n",
    "notes = {}\n",
    "with jsonlines.open('../Data/General/Input/notes-input.jsonl', 'r') as reader:\n",
    "    for line in reader:\n",
    "        notes[tuple(line['ID'])] = line['note']"
   ]
  },
  {
   "cell_type": "code",
   "execution_count": 3,
   "id": "e02f2495",
   "metadata": {},
   "outputs": [],
   "source": [
    "# load the service\n",
    "\n",
    "client = dlp_v2.DlpServiceClient().from_service_account_json(os.environ['GOOGLE_APPLICATION_CREDENTIALS'])"
   ]
  },
  {
   "cell_type": "code",
   "execution_count": 4,
   "id": "85ced5d8",
   "metadata": {},
   "outputs": [
    {
     "name": "stdout",
     "output_type": "stream",
     "text": [
      "Finish Processing Note 0\n",
      "Finish Processing Note 1000\n",
      "Finish Processing Note 2000\n",
      "Finish Processing Note 3000\n",
      "Finish Processing Note 4000\n",
      "Finish Processing Note 5000\n",
      "Finish Processing Note 6000\n",
      "Finish Processing Note 7000\n",
      "Finish Processing Note 8000\n",
      "Finish Processing Note 9000\n",
      "Finish Processing Note 10000\n",
      "Finish Processing Note 11000\n",
      "Finish Processing Note 12000\n",
      "Finish Processing Note 13000\n",
      "Finish Processing Note 14000\n",
      "Finish Processing Note 15000\n"
     ]
    }
   ],
   "source": [
    "# make predictions\n",
    "\n",
    "parent = 'projects/deidentification-370207'\n",
    "inspect_config = {'info_types':[{'name':'PERSON_NAME'}]}\n",
    "confidence = {'VERY_UNLIKELY':0.2, 'UNLIKELY':0.4, 'POSSIBLE':0.6, 'LIKELY':0.8, 'VERY_LIKELY':1.0}\n",
    "\n",
    "outputs = defaultdict(dict)\n",
    "for count, (ID, note) in enumerate(notes.items()):\n",
    "    request = {'parent':parent, 'inspect_config':inspect_config, 'item':{'value':note}}\n",
    "    response = client.inspect_content(request)\n",
    "    \n",
    "    for entity in response.result.findings:\n",
    "        start, end = entity.location.byte_range.start, entity.location.byte_range.end\n",
    "        name, likelihood = note[start:end], confidence[entity.likelihood.name]\n",
    "        \n",
    "        for title in ['Mr. ', 'Ms. ', 'Mrs. ', 'Dr. ', 'Dr.\\n']:\n",
    "            length = len(title)\n",
    "            if name[:length] == title:\n",
    "                name = name[length:]\n",
    "                start += length\n",
    "                break\n",
    "        outputs[ID][(start, end)] = (name, likelihood)\n",
    "        \n",
    "    if count % 1000 == 0: print(f'Finish Processing Note {count}')"
   ]
  },
  {
   "cell_type": "code",
   "execution_count": 5,
   "id": "cd853316",
   "metadata": {},
   "outputs": [],
   "source": [
    "# save the outputs\n",
    "\n",
    "with jsonlines.open('../Data/General/Output/notes-Google.jsonl', 'w') as writer:\n",
    "    writer.write_all([{'ID':list(ID), 'position':list(position), 'name':list(name)} for ID, preds in outputs.items() for position, name in preds.items()])"
   ]
  },
  {
   "cell_type": "markdown",
   "id": "13a70cb3",
   "metadata": {},
   "source": [
    "### Polysemy Evaluation"
   ]
  },
  {
   "cell_type": "code",
   "execution_count": 2,
   "id": "3a84e8d2",
   "metadata": {},
   "outputs": [],
   "source": [
    "# load the inputs\n",
    "\n",
    "notes = {}\n",
    "with jsonlines.open('../Data/Polysemy/Input/polysemies-input.jsonl', 'r') as reader:\n",
    "    for line in reader:\n",
    "        notes[tuple(line['ID'])] = line['note']"
   ]
  },
  {
   "cell_type": "code",
   "execution_count": 3,
   "id": "366f9a37",
   "metadata": {},
   "outputs": [],
   "source": [
    "# create a project with billing and DLP API enabled, set up a service account as DLP user and get credential, install DLP and set ENV variable\n",
    "# load the service\n",
    "\n",
    "client = dlp_v2.DlpServiceClient().from_service_account_json(os.environ['GOOGLE_APPLICATION_CREDENTIALS'])"
   ]
  },
  {
   "cell_type": "code",
   "execution_count": 4,
   "id": "b5c325f9",
   "metadata": {},
   "outputs": [
    {
     "name": "stdout",
     "output_type": "stream",
     "text": [
      "Finish Processing Note 0\n",
      "Finish Processing Note 100\n",
      "Finish Processing Note 200\n"
     ]
    }
   ],
   "source": [
    "# make predictions\n",
    "\n",
    "parent = 'projects/deidentification-370207'\n",
    "inspect_config = {'info_types':[{'name':'PERSON_NAME'}]}\n",
    "confidence = {'VERY_UNLIKELY':0.2, 'UNLIKELY':0.4, 'POSSIBLE':0.6, 'LIKELY':0.8, 'VERY_LIKELY':1.0}\n",
    "\n",
    "outputs = defaultdict(dict)\n",
    "for count, (ID, note) in enumerate(notes.items()):\n",
    "    request = {'parent':parent, 'inspect_config':inspect_config, 'item':{'value':note}}\n",
    "    response = client.inspect_content(request)\n",
    "    \n",
    "    for entity in response.result.findings:\n",
    "        start, end = entity.location.byte_range.start, entity.location.byte_range.end\n",
    "        name, likelihood = note[start:end], confidence[entity.likelihood.name]\n",
    "        \n",
    "        for title in ['Mr. ', 'Ms. ', 'Mrs. ', 'Dr. ', 'Dr.\\n']:\n",
    "            length = len(title)\n",
    "            if name[:length] == title:\n",
    "                name = name[length:]\n",
    "                start += length\n",
    "                break\n",
    "        outputs[ID][(start, end)] = (name, likelihood)\n",
    "        \n",
    "    if count % 100 == 0: print(f'Finish Processing Note {count}')"
   ]
  },
  {
   "cell_type": "code",
   "execution_count": 5,
   "id": "a8f70ccd",
   "metadata": {},
   "outputs": [],
   "source": [
    "# save the outputs\n",
    "\n",
    "with jsonlines.open('../Data/Polysemy/Output/polysemies-Google.jsonl', 'w') as writer:\n",
    "    writer.write_all([{'ID':list(ID), 'position':list(position), 'name':list(name)} for ID, preds in outputs.items() for position, name in preds.items()])"
   ]
  }
 ],
 "metadata": {
  "kernelspec": {
   "display_name": "Python 3 (ipykernel)",
   "language": "python",
   "name": "python3"
  },
  "language_info": {
   "codemirror_mode": {
    "name": "ipython",
    "version": 3
   },
   "file_extension": ".py",
   "mimetype": "text/x-python",
   "name": "python",
   "nbconvert_exporter": "python",
   "pygments_lexer": "ipython3",
   "version": "3.10.9"
  }
 },
 "nbformat": 4,
 "nbformat_minor": 5
}
