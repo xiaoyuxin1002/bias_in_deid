{
 "cells": [
  {
   "cell_type": "code",
   "execution_count": 1,
   "id": "f20d9932",
   "metadata": {},
   "outputs": [],
   "source": [
    "import csv\n",
    "import random\n",
    "import jsonlines\n",
    "import numpy as np\n",
    "import pandas as pd\n",
    "from collections import defaultdict\n",
    "\n",
    "seed = 1\n",
    "random.seed(seed)\n",
    "np.random.seed(seed)"
   ]
  },
  {
   "cell_type": "markdown",
   "id": "1c299e51",
   "metadata": {},
   "source": [
    "## Dataset Setup\n",
    "\n",
    "### Test Inputs\n",
    "\n",
    "- 16 name sets with 20 names in each set.\n",
    "- 100 clinical templates with an average of 3.5 unique names and 7.3 name mentions per template. Their lengths range from 3956 to 24836 characters, with a mean of 12893.0 characters.\n",
    "- Generate 10 copies for each name set, fill up the names by randomly sampling from the corresponding name set.\n",
    "- Total: 16000 input notes for auditing = 100 templates * 10 copies per set per template * 16 name sets\n",
    "\n",
    "### Name Tags\n",
    "\n",
    "- Convention for labeling name tags: **\\*\\*NAME-1A\\*\\***\n",
    "    - 1st position: person ID in one template -> 1: Person 1\n",
    "    - 2nd position: gender -> A: arbitrary gender | F: female | M: male\n",
    "- Each name consists of a first name and a surname.\n",
    "- Inputs: {(template ID, set ID, copy ID): note}\n",
    "- Labels: {(template ID, set ID, copy ID): {(start index, end index): (name, name tag, name set)}}"
   ]
  },
  {
   "cell_type": "code",
   "execution_count": 2,
   "id": "12e8f4b2",
   "metadata": {},
   "outputs": [],
   "source": [
    "# prepare the unannotated templates\n",
    "\n",
    "templates_all = pd.read_csv('../Data/General/Raw/Note/discharges-all.csv')\n",
    "patients_unseen = pd.read_csv('../Data/General/Raw/Note/subjectids-unseen.csv')\n",
    "templates_unseen = templates_all[templates_all['subject_id'].isin(patients_unseen['subject_id'].unique())].drop_duplicates('subject_id')\n",
    "patients_valid = patients_unseen[patients_unseen['subject_id'].isin(templates_unseen['subject_id'].unique())].drop_duplicates('subject_id')\n",
    "\n",
    "size = 100\n",
    "genders = ['M', 'F']\n",
    "patients_selected = []\n",
    "for gender in genders:\n",
    "    patients_selected += list(patients_valid[patients_valid['gender']==gender]['subject_id'].sample(size//len(genders)))\n",
    "templates_selected = templates_unseen[templates_unseen['subject_id'].isin(patients_selected)]\n",
    "templates_selected.to_csv('../Data/General/Raw/Note/notes-raw.csv', index=False)"
   ]
  },
  {
   "cell_type": "code",
   "execution_count": 3,
   "id": "6f35439c",
   "metadata": {},
   "outputs": [],
   "source": [
    "class Namer:\n",
    "    \n",
    "    def __init__(self):\n",
    "        \n",
    "        self.copy_size = 10\n",
    "        self.name_tag = ('**NAME-', 11)\n",
    "        self.other_tags = {'**AGE**':'38', '**CONTACT**':'0123456789', '**DATE**':'2100/01/01', \n",
    "                           '**HOSPITAL**':'General Hospital', '**ID**':'100', '**LANGUAGE**':'English', \n",
    "                           '**LOCATION**':'Building 1', '**OTHER**':'_', '**PROFESSION**':'worker'}\n",
    "        \n",
    "        self.first2last = {1:1, 2:1, 3:2, 4:2, 5:3, 6:3, 7:4, 8:4, 9:5, 10:5, 11:6, 12:6, 13:1, 14:1, 15:1, 16:1}\n",
    "        self.first_sets, self.last_sets = defaultdict(list), defaultdict(list)\n",
    "        for sets, filename in zip([self.first_sets, self.last_sets], ['names-first.csv', 'names-last.csv']):            \n",
    "            with open(f'../Data/General/Input/{filename}') as file:\n",
    "                reader = csv.reader(file)\n",
    "                _ = next(reader)\n",
    "                for row in reader:\n",
    "                    setID, name = int(row[0]), row[-3]\n",
    "                    sets[setID].append(name)\n",
    "                    \n",
    "    def replace_irrelevant(self, template):\n",
    "        \n",
    "        for tag, fake in self.other_tags.items():\n",
    "            template = template.replace(tag, fake)\n",
    "        return template\n",
    "                    \n",
    "    def find_occurrences(self, note, tag):\n",
    "        \n",
    "        pattern, length = tag\n",
    "        occurrences = []\n",
    "        index = note.find(pattern)\n",
    "        while index != -1:\n",
    "            occurrences.append((index, index+length, note[index:index+length]))\n",
    "            index = note.find(pattern, index+length)\n",
    "        return occurrences\n",
    "                    \n",
    "    def sample_name(self, setID):\n",
    "        \n",
    "        names = {'F':self.first_sets[setID], 'L': self.last_sets[self.first2last[setID]]}         \n",
    "        for each in names.values():\n",
    "            random.shuffle(each)\n",
    "        return names\n",
    "                        \n",
    "    # replace the irrelevant tags, identify the name tags, sample the names, replace the name tags, return the notes and names\n",
    "    def __call__(self, templates):\n",
    "        \n",
    "        input_notes, input_labels = {}, defaultdict(dict)\n",
    "        for templateID, row in templates.iterrows():\n",
    "            template = self.replace_irrelevant(row['text'])\n",
    "            tags = {tag for _, _, tag in self.find_occurrences(template, self.name_tag)}\n",
    "            for setID in self.first2last:\n",
    "                for copyID in range(self.copy_size):\n",
    "                    names = self.sample_name(setID)\n",
    "                    \n",
    "                    name2tag, name2setID = {}, {}\n",
    "                    input_notes[(templateID, setID, copyID)] = template\n",
    "                    for tag in tags:\n",
    "                        personID = int(tag[7])\n",
    "                        name = ' '.join([names['F'][personID], names['L'][personID]])\n",
    "                        \n",
    "                        name2tag[name] = tag\n",
    "                        name2setID[name] = setID\n",
    "                        input_notes[(templateID, setID, copyID)] = input_notes[(templateID, setID, copyID)].replace(tag, name)\n",
    "                        \n",
    "                    for name in name2tag:\n",
    "                        for start, end, _ in self.find_occurrences(input_notes[(templateID, setID, copyID)], (name, len(name))):\n",
    "                            input_labels[(templateID, setID, copyID)][(start, end)] = (name, name2tag[name], name2setID[name])\n",
    "                            \n",
    "                    name_overlap = set()\n",
    "                    positions = list(input_labels[(templateID, setID, copyID)].keys())\n",
    "                    for i in range(len(positions)):\n",
    "                        for j in range(i+1, len(positions)):\n",
    "                            if positions[i][0]<=positions[j][0] and positions[i][1]>=positions[j][1]: name_overlap.add(positions[j])\n",
    "                    for start, end in name_overlap:\n",
    "                        del input_labels[(templateID, setID, copyID)][(start, end)]\n",
    "                        \n",
    "        return input_notes, input_labels"
   ]
  },
  {
   "cell_type": "code",
   "execution_count": 4,
   "id": "a1131ac1",
   "metadata": {},
   "outputs": [],
   "source": [
    "# generate the inputs\n",
    "\n",
    "namer = Namer()\n",
    "templates = pd.read_csv('../Data/General/Input/notes-base.csv')\n",
    "notes_input, notes_label = namer(templates)"
   ]
  },
  {
   "cell_type": "code",
   "execution_count": 5,
   "id": "f1cb8ec5",
   "metadata": {},
   "outputs": [],
   "source": [
    "# save the inputs\n",
    "\n",
    "with jsonlines.open('../Data/General/Input/notes-input.jsonl', 'w') as writer:\n",
    "    writer.write_all([{'ID':ID, 'note':note} for ID, note in notes_input.items()])\n",
    "with jsonlines.open('../Data/General/Input/notes-label.jsonl', 'w') as writer:\n",
    "    writer.write_all([{'ID':ID, 'position':position, 'name':name} for ID, labels in notes_label.items() for position, name in labels.items()])"
   ]
  },
  {
   "cell_type": "code",
   "execution_count": 6,
   "id": "9a870db9",
   "metadata": {},
   "outputs": [
    {
     "name": "stdout",
     "output_type": "stream",
     "text": [
      "# Unique Names: Mean 3.5\n",
      "# Name Mentions: Mean 7.3\n",
      "Template Length: Mean 12893.0, Min 3956, Max 24836\n"
     ]
    }
   ],
   "source": [
    "# analyze the templates\n",
    "\n",
    "lengths, uniques, mentions = [], [], []\n",
    "for _, row in templates.iterrows():\n",
    "    occurrences = namer.find_occurrences(row['text'], namer.name_tag)\n",
    "    lengths.append(len(row['text']))\n",
    "    uniques.append(len({name for _, _, name in occurrences}))\n",
    "    mentions.append(len(occurrences))\n",
    "\n",
    "print(f'# Unique Names: Mean {np.mean(uniques):.1f}')\n",
    "print(f'# Name Mentions: Mean {np.mean(mentions):.1f}')\n",
    "print(f'Template Length: Mean {np.mean(lengths):.1f}, Min {np.min(lengths)}, Max {np.max(lengths)}')"
   ]
  }
 ],
 "metadata": {
  "kernelspec": {
   "display_name": "Python 3 (ipykernel)",
   "language": "python",
   "name": "python3"
  },
  "language_info": {
   "codemirror_mode": {
    "name": "ipython",
    "version": 3
   },
   "file_extension": ".py",
   "mimetype": "text/x-python",
   "name": "python",
   "nbconvert_exporter": "python",
   "pygments_lexer": "ipython3",
   "version": "3.10.9"
  }
 },
 "nbformat": 4,
 "nbformat_minor": 5
}
