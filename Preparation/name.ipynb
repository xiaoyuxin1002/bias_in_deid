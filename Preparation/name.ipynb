{
 "cells": [
  {
   "cell_type": "code",
   "execution_count": 1,
   "id": "b3be5005",
   "metadata": {},
   "outputs": [],
   "source": [
    "import csv\n",
    "import random\n",
    "import numpy as np\n",
    "import pandas as pd\n",
    "from itertools import combinations\n",
    "from collections import defaultdict, OrderedDict\n",
    "\n",
    "seed = 1\n",
    "random.seed(seed)\n",
    "np.random.seed(seed)"
   ]
  },
  {
   "cell_type": "markdown",
   "id": "0a31c83f",
   "metadata": {},
   "source": [
    "## Dataset Setup\n",
    "\n",
    "### Sets of First Names\n",
    "\n",
    "**First Name Set ID** | Gender | Race | Popularity | Decade | Corresponding Last Name Set ID\n",
    "--- | --- | --- | --- | --- | ---\n",
    "**1** | M | White | Top | 2000s | 1\n",
    "**2** | F | White | Top | 2000s | 1\n",
    "**3** | M | White | Medium | 2000s | 2\n",
    "**4** | F | White | Medium | 2000s | 2\n",
    "**5** | M | White | Bottom | 2000s | 3\n",
    "**6** | F | White | Bottom | 2000s | 3\n",
    "**7** | M | Black | Medium | 2000s | 4\n",
    "**8** | F | Black | Medium | 2000s | 4\n",
    "**9** | M | Asian | Medium | 2000s | 5\n",
    "**10** | F | Asian | Medium | 2000s | 5\n",
    "**11** | M | Hispanic | Medium | 2000s | 6\n",
    "**12** | F | Hispanic | Medium | 2000s | 6\n",
    "**13** | M | White | Top | 1970s | 1\n",
    "**14** | F | White | Top | 1970s | 1\n",
    "**15** | M | White | Top | 1940s | 1\n",
    "**16** | F | White | Top | 1940s | 1\n",
    "\n",
    "### Sets of Last Names\n",
    "\n",
    "**Last Name Set ID** | Gender | Race | Popularity | Decade | Corresponding First Name Set ID\n",
    "--- | --- | --- | --- | --- | ---\n",
    "**1** | NA | White | Top | 2000s | 1,2,13,14,15,16\n",
    "**2** | NA | White | Medium | 2000s | 3,4\n",
    "**3** | NA | White | Bottom | 2000s | 5,6\n",
    "**4** | NA | Black | Medium | 2000s | 7,8\n",
    "**5** | NA | Asian | Medium | 2000s | 9,10\n",
    "**6** | NA | Hispanic | Medium | 2000s | 11,12\n",
    "\n",
    "\n",
    "### Ways to Compare the Results\n",
    "\n",
    "**Dimension** | Name Sets\n",
    "--- | --- \n",
    "**Gender** | Male:{1,3,5,7,9,11,13,15} vs Female:{2,4,6,8,10,12,14,16}\n",
    "**Race** | White:{3,4} vs Black:{7,8} vs Asian:{9,10} vs Hispanic:{11,12}\n",
    "**Popularity** | Top:{1,2} vs Medium:{3,4} vs Bottom:{5,6}\n",
    "**Decade** | 2000s:{1,2} vs 1970s:{13,14} vs 1940s:{15,16}"
   ]
  },
  {
   "cell_type": "markdown",
   "id": "4eb394e9",
   "metadata": {},
   "source": [
    "## Prepare Sets of First Names"
   ]
  },
  {
   "cell_type": "code",
   "execution_count": 3,
   "id": "f523c749",
   "metadata": {},
   "outputs": [],
   "source": [
    "# get the count and rank of first names, grouped by gender and decade\n",
    "\n",
    "genders = ['M', 'F']\n",
    "years, duration = [1940, 1970, 2000], 10\n",
    "first_count = defaultdict(lambda: defaultdict(lambda: defaultdict(int)))\n",
    "first_rank = defaultdict(lambda: defaultdict(OrderedDict))\n",
    "\n",
    "for year in years:\n",
    "    for i in range(duration):\n",
    "        with open(f'../Data/General/Raw/Name/firstnames-socialsecurity-{year+i}.txt', 'r') as file:\n",
    "            for line in file:\n",
    "                first, gender, count = line[:-1].split(',')\n",
    "                first_count[year][gender][first] += int(count)\n",
    "                \n",
    "    for gender in genders:\n",
    "        for rank, (first, _) in enumerate(sorted(first_count[year][gender].items(), key=lambda x:x[1], reverse=True)):\n",
    "            first_rank[year][gender][first] = rank\n",
    "            \n",
    "gender_first = {gender: set([first for year in years for first in first_rank[year][gender]]) for gender in genders}\n",
    "ambiguous_first = gender_first['M'].intersection(gender_first['F'])\n",
    "gender_first = {gender: gender_first[gender]-ambiguous_first for gender in genders}"
   ]
  },
  {
   "cell_type": "code",
   "execution_count": 5,
   "id": "953a4e64",
   "metadata": {},
   "outputs": [],
   "source": [
    "# get the race of first names\n",
    "# discard names where the ratio gap between the largest and second largest races is less than 10%\n",
    "\n",
    "races = ['hispanic', 'white', 'black', 'asian']\n",
    "index2race = {index:race for index, race in enumerate(races)}\n",
    "\n",
    "threshold = 10\n",
    "first_race = {}\n",
    "df = pd.read_excel('../Data/General/Raw/Name/firstnames-mortgage-2010.xlsx', sheet_name=None)['Data']\n",
    "\n",
    "for i in range(len(df)-1):\n",
    "    first, race_dist = df['firstname'][i], np.array([df['pcthispanic'][i], df['pctwhite'][i], df['pctblack'][i], df['pctapi'][i], df['pctaian'][i], df['pct2prace'][i]])\n",
    "    second_max, first_max = np.sort(race_dist)[-2:]\n",
    "    if first_max-second_max >= threshold:\n",
    "        first = first[0] + first[1:].lower()\n",
    "        first_race[first] = index2race[race_dist.argmax()]\n",
    "        \n",
    "race_first = defaultdict(set)\n",
    "for first, race in first_race.items():\n",
    "    race_first[race].add(first)"
   ]
  },
  {
   "cell_type": "code",
   "execution_count": 6,
   "id": "a1431d1d",
   "metadata": {},
   "outputs": [],
   "source": [
    "# generate sets 1,2,13,14,15,16: M/F white top 1940s/1970s/2000s\n",
    "# make sure that these names are representative (do not appear in the top 50 of other decades)\n",
    "\n",
    "first_remove = defaultdict(dict)\n",
    "for year in years:\n",
    "    for gender in genders:\n",
    "        first_remove[year][gender] = set(list(first_rank[year][gender].keys())[:50])\n",
    "        \n",
    "race = 'white'\n",
    "size = 20\n",
    "first_top = defaultdict(lambda: defaultdict(list))\n",
    "for year in years:\n",
    "    for gender in genders:\n",
    "        for first in first_rank[year][gender]:\n",
    "            if first not in race_first[race]: continue\n",
    "            \n",
    "            unique = True\n",
    "            for other_year in years:\n",
    "                for other_gender in genders:\n",
    "                    if year == other_year and gender == other_gender: continue\n",
    "                    if first in first_remove[other_year][other_gender]: unique = False; break\n",
    "            \n",
    "            if unique: \n",
    "                first_top[year][gender].append(first)\n",
    "                if len(first_top[year][gender]) >= size: break"
   ]
  },
  {
   "cell_type": "code",
   "execution_count": 7,
   "id": "d0973d0a",
   "metadata": {},
   "outputs": [],
   "source": [
    "# generate sets 3,4,7,8,9,10,11,12: M/F white/black/asian/hispanic medium 2000s\n",
    "# sample from the range between rank 400 and rank 8000\n",
    "\n",
    "year = 2000\n",
    "range_lower, range_upper = 400, 8000\n",
    "race_candidates = defaultdict(lambda: defaultdict(list))\n",
    "\n",
    "for gender in genders:\n",
    "    for first in list(first_rank[year][gender].keys())[range_lower:range_upper]:\n",
    "        if first in first_race:\n",
    "            race_candidates[gender][first_race[first]].append(first)\n",
    "            \n",
    "for race in races:\n",
    "    popular = set() if race!='white' else set([first for year in years for gender in genders for first in first_top[year][gender]])\n",
    "    gender_overlap = list(set(race_candidates[genders[0]][race]).intersection(set(race_candidates[genders[1]][race])))\n",
    "    random.shuffle(gender_overlap)    \n",
    "    for i, gender in enumerate(genders):\n",
    "        candidates, overlap = [], gender_overlap[i*len(gender_overlap)//2:(i+1)*len(gender_overlap)//2]\n",
    "        for first in race_candidates[gender][race]:\n",
    "            if first not in popular and first not in overlap: candidates.append(first)\n",
    "        race_candidates[gender][race] = candidates\n",
    "            \n",
    "first_medium = defaultdict(lambda: defaultdict(dict))\n",
    "for gender in genders:\n",
    "    for race in races:\n",
    "        sampled_indices = sorted(random.sample(range(len(race_candidates[gender][race])), size))\n",
    "        first_medium[gender][race] = np.array(race_candidates[gender][race])[sampled_indices].tolist()"
   ]
  },
  {
   "cell_type": "code",
   "execution_count": 8,
   "id": "7dbc2572",
   "metadata": {},
   "outputs": [],
   "source": [
    "# generate sets 5,6: M/F white bottom 2000s\n",
    "# break ties by random sampling\n",
    "\n",
    "year = 2000\n",
    "race = 'white'\n",
    "first_bottom = defaultdict(list)\n",
    "for gender in genders:\n",
    "    candidates = set()\n",
    "    for first in list(first_rank[year][gender].keys())[::-1]:\n",
    "        if first_count[year][gender][first] > 5: break\n",
    "        if first in race_first[race]: candidates.add(first)\n",
    "        \n",
    "    for other_gender in genders:\n",
    "        candidates -= set(first_medium[other_gender][race])\n",
    "        for other_year in years:\n",
    "            candidates -= set(first_top[other_year][other_gender])\n",
    "    first_bottom[gender] = random.sample(list(candidates), size)"
   ]
  },
  {
   "cell_type": "code",
   "execution_count": 11,
   "id": "09e950dc",
   "metadata": {},
   "outputs": [],
   "source": [
    "# assign sets to their ids\n",
    "\n",
    "sets, sets_info = {}, {}\n",
    "\n",
    "sets_info[1] = ('M', 'white', 'top', '2000s')\n",
    "sets[1] = first_top[2000]['M']\n",
    "sets_info[2] = ('F', 'white', 'top', '2000s')\n",
    "sets[2] = first_top[2000]['F']\n",
    "\n",
    "sets_info[3] = ('M', 'white', 'medium', '2000s')\n",
    "sets[3] = first_medium['M']['white']\n",
    "sets_info[4] = ('F', 'white', 'medium', '2000s')\n",
    "sets[4] = first_medium['F']['white']\n",
    "\n",
    "sets_info[5] = ('M', 'white', 'bottom', '2000s')\n",
    "sets[5] = first_bottom['M']\n",
    "sets_info[6] = ('F', 'white', 'bottom', '2000s')\n",
    "sets[6] = first_bottom['F']\n",
    "\n",
    "sets_info[7] = ('M', 'black', 'medium', '2000s')\n",
    "sets[7] = first_medium['M']['black']\n",
    "sets_info[8] = ('F', 'black', 'medium', '2000s')\n",
    "sets[8] = first_medium['F']['black']\n",
    "\n",
    "sets_info[9] = ('M', 'asian', 'medium', '2000s')\n",
    "sets[9] = first_medium['M']['asian']\n",
    "sets_info[10] = ('F', 'asian', 'medium', '2000s')\n",
    "sets[10] = first_medium['F']['asian']\n",
    "\n",
    "sets_info[11] = ('M', 'hispanic', 'medium', '2000s')\n",
    "sets[11] = first_medium['M']['hispanic']\n",
    "sets_info[12] = ('F', 'hispanic', 'medium', '2000s')\n",
    "sets[12] = first_medium['F']['hispanic']\n",
    "\n",
    "sets_info[13] = ('M', 'white', 'top', '1970s')\n",
    "sets[13] = first_top[1970]['M']\n",
    "sets_info[14] = ('F', 'white', 'top', '1970s')\n",
    "sets[14] = first_top[1970]['F']\n",
    "\n",
    "sets_info[15] = ('M', 'white', 'top', '1940s')\n",
    "sets[15] = first_top[1940]['M']\n",
    "sets_info[16] = ('F', 'white', 'top', '1940s')\n",
    "sets[16] = first_top[1940]['F']"
   ]
  },
  {
   "cell_type": "code",
   "execution_count": 12,
   "id": "ce5fd7a4",
   "metadata": {},
   "outputs": [
    {
     "name": "stdout",
     "output_type": "stream",
     "text": [
      "Any duplicate: 0\n"
     ]
    }
   ],
   "source": [
    "# check for any duplicate\n",
    "\n",
    "first_duplicates = defaultdict(set)\n",
    "for id_1, id_2 in combinations(range(1,17), 2):\n",
    "    intersection = set(sets[id_1]).intersection(set(sets[id_2]))\n",
    "    for first in intersection:\n",
    "        first_duplicates[first].add(id_1)\n",
    "        first_duplicates[first].add(id_2)\n",
    "        \n",
    "print('Any duplicate:', len(first_duplicates))"
   ]
  },
  {
   "cell_type": "code",
   "execution_count": 32,
   "id": "9bef987c",
   "metadata": {},
   "outputs": [
    {
     "name": "stdout",
     "output_type": "stream",
     "text": [
      "M white top 2000s | Jacob 0 273911 | Evan 44 92128\n",
      "F white top 2000s | Emily 0 223714 | Anna 23 90215\n",
      "M white medium 2000s | Jessie 462 5594 | Allison 5891 131\n",
      "F white medium 2000s | Karissa 577 5092 | Claudine 7959 141\n",
      "M white bottom 2000s | Marti 24421 5 | Rhea 22496 5\n",
      "F white bottom 2000s | Kamran 30931 5 | Babette 33443 \n",
      "M black medium 2000s | Kelvin 427 6259 | Odell 4398 198\n",
      "F black medium 2000s | Lillie 559 5245 | Felecia 7797 145\n",
      "M asian medium 2000s | Romeo 541 4475 | Rajeev 7813 86\n",
      "F asian medium 2000s | Estrella 457 6585 | Xin 7901 143\n",
      "M hispanic medium 2000s | Leonel 493 5137 | Bernardino 5404 148\n",
      "F hispanic medium 2000s | Araceli 606 4713 | Natividad 7817 145\n",
      "M white top 1970s | Brian 7 322825 | Bradley 56 58716\n",
      "F white top 1970s | Amy 1 269004 | Andrea 27 86431\n",
      "M white top 1940s | Larry 10 255890 | Billy 41 67826\n",
      "F white top 1940s | Linda 1 531650 | Brenda 25 112407\n"
     ]
    }
   ],
   "source": [
    "# summarize the sets\n",
    "\n",
    "for i in range(1,17):\n",
    "    top, bottom = sets[i][0], sets[i][-1]\n",
    "    gender, race, popularity, decade = sets_info[i]\n",
    "    year = int(decade[:-1])\n",
    "    print(gender, race, popularity, decade, '|', \n",
    "          top, first_rank[year][gender][top], first_count[year][gender][top], '|', \n",
    "          bottom, first_rank[year][gender][bottom], first_count[year][gender][bottom])"
   ]
  },
  {
   "cell_type": "code",
   "execution_count": 25,
   "id": "c70be94b",
   "metadata": {},
   "outputs": [],
   "source": [
    "# save the name sets\n",
    "\n",
    "fields = ['SetID', 'Gender', 'Race', 'Popularity', 'Decade', 'Name', 'Rank', 'Count']\n",
    "with open('../Data/General/Input/names-first.csv', 'w') as file: \n",
    "    writer = csv.writer(file)\n",
    "    writer.writerow(fields)\n",
    "    \n",
    "    for set_id in range(1, len(sets_info)+1):\n",
    "        gender, race, popularity, decade = sets_info[set_id]\n",
    "        year = int(decade[:-1])\n",
    "        \n",
    "        for first in sets[set_id]:\n",
    "            rank, count = first_rank[year][gender][first], first_count[year][gender][first]\n",
    "            writer.writerow([set_id, gender, race, popularity, decade, first, rank, count])"
   ]
  },
  {
   "cell_type": "markdown",
   "id": "c428f3ac",
   "metadata": {},
   "source": [
    "## Prepare Sets of Last Names"
   ]
  },
  {
   "cell_type": "code",
   "execution_count": 26,
   "id": "f4c094e0",
   "metadata": {},
   "outputs": [],
   "source": [
    "# get the rank, count, and race of last names\n",
    "# discard last names where the ratio gap between the largest and second largest races is less than 10%\n",
    "\n",
    "races = ['hispanic', 'white', 'black', 'asian']\n",
    "index2race = {5:'hispanic', 0:'white', 1:'black', 2:'asian'}\n",
    "\n",
    "threshold = 10\n",
    "last_rank, last_count, last_race = OrderedDict(), {}, {}\n",
    "\n",
    "with open('../Data/General/Raw/Name/surnames-census-2000.csv', 'r') as file:\n",
    "    reader = csv.reader(file)\n",
    "    _ = next(reader)\n",
    "    for row in reader:\n",
    "        last, rank, count, race_dist = row[0], int(row[1]), int(row[2]), np.array([0 if each=='(S)' else float(each) for each in row[-6:]])\n",
    "        second_max, first_max = np.sort(race_dist)[-2:]\n",
    "        if first_max-second_max >= threshold and race_dist.argmax() in index2race:\n",
    "            last = last[0] + last[1:].lower()\n",
    "            last_rank[last] = rank\n",
    "            last_count[last] = count\n",
    "            last_race[last] = index2race[race_dist.argmax()]\n",
    "            \n",
    "race_last = defaultdict(list)\n",
    "for last, race in last_race.items():\n",
    "    race_last[race].append(last)"
   ]
  },
  {
   "cell_type": "code",
   "execution_count": 27,
   "id": "47164175",
   "metadata": {},
   "outputs": [],
   "source": [
    "# generate sets 1,3: NA white top/bottom 2000s\n",
    "\n",
    "race, size = 'white', 20\n",
    "last_top = race_last[race][:size]\n",
    "\n",
    "candidates = [last for last in race_last[race][::-1] if last_count[last]==100][::-1]\n",
    "sampled_indices = sorted(random.sample(range(len(candidates)), size))\n",
    "last_bottom = np.array(candidates)[sampled_indices].tolist()"
   ]
  },
  {
   "cell_type": "code",
   "execution_count": 28,
   "id": "60a030cd",
   "metadata": {},
   "outputs": [],
   "source": [
    "# generate sets 2,4,5,6: NA white/black/asian/hispanic medium 2000s\n",
    "# sample from the range between rank 400 and rank 8000\n",
    "\n",
    "range_lower, range_upper = 400, 8000\n",
    "race_candidates = defaultdict(list)\n",
    "\n",
    "for last in list(last_rank.keys())[range_lower:range_upper]:\n",
    "    race_candidates[last_race[last]].append(last)\n",
    "\n",
    "last_medium = {}\n",
    "for race in races:\n",
    "    sampled_indices = sorted(random.sample(range(len(race_candidates[race])), size))\n",
    "    last_medium[race] = np.array(race_candidates[race])[sampled_indices].tolist()"
   ]
  },
  {
   "cell_type": "code",
   "execution_count": 29,
   "id": "00ddfc37",
   "metadata": {},
   "outputs": [],
   "source": [
    "# assign sets to their ids\n",
    "\n",
    "sets, sets_info = {}, {}\n",
    "\n",
    "sets_info[1] = ('NA', 'white', 'top', '2000s')\n",
    "sets[1] = last_top\n",
    "sets_info[2] = ('NA', 'white', 'medium', '2000s')\n",
    "sets[2] = last_medium['white']\n",
    "sets_info[3] = ('NA', 'white', 'bottom', '2000s')\n",
    "sets[3] = last_bottom\n",
    "\n",
    "sets_info[4] = ('NA', 'black', 'medium', '2000s')\n",
    "sets[4] = last_medium['black']\n",
    "sets_info[5] = ('NA', 'asian', 'medium', '2000s')\n",
    "sets[5] = last_medium['asian']\n",
    "sets_info[6] = ('NA', 'hispanic', 'medium', '2000s')\n",
    "sets[6] = last_medium['hispanic']"
   ]
  },
  {
   "cell_type": "code",
   "execution_count": 31,
   "id": "c423ab7f",
   "metadata": {},
   "outputs": [
    {
     "name": "stdout",
     "output_type": "stream",
     "text": [
      "Any duplicate: 0\n"
     ]
    }
   ],
   "source": [
    "# check for any duplicate\n",
    "\n",
    "last_duplicates = defaultdict(set)\n",
    "for id_1, id_2 in combinations(range(1,7), 2):\n",
    "    intersection = set(sets[id_1]).intersection(set(sets[id_2]))\n",
    "    for last in intersection:\n",
    "        last_duplicates[last].add(id_1)\n",
    "        last_duplicates[last].add(id_2)\n",
    "        \n",
    "print('Any duplicate:', len(last_duplicates))"
   ]
  },
  {
   "cell_type": "code",
   "execution_count": 36,
   "id": "75690fb4",
   "metadata": {},
   "outputs": [
    {
     "name": "stdout",
     "output_type": "stream",
     "text": [
      "NA white top 2000s | Smith 1 2376206 | Young 31 465948\n",
      "NA white medium 2000s | Whitehead 721 43310 | Kenner 7937 3865\n",
      "NA white bottom 2000s | Benhamou 150436 100 | Tennity 150436 100\n",
      "NA black medium 2000s | Booker 902 35101 | Belle 8155 3742\n",
      "NA asian medium 2000s | Ahmed 1206 26607 | Kobayashi 8097 3772\n",
      "NA hispanic medium 2000s | Salgado 1012 31627 | Atencio 7794 3933\n"
     ]
    }
   ],
   "source": [
    "# summarize the sets\n",
    "\n",
    "for i in range(1,7):\n",
    "    top, bottom = sets[i][0], sets[i][-1]\n",
    "    gender, race, popularity, decade = sets_info[i]\n",
    "    year = int(decade[:-1])\n",
    "    print(gender, race, popularity, decade, '|', \n",
    "          top, last_rank[top], last_count[top], '|', \n",
    "          bottom, last_rank[bottom], last_count[bottom])"
   ]
  },
  {
   "cell_type": "code",
   "execution_count": 45,
   "id": "52331af3",
   "metadata": {},
   "outputs": [],
   "source": [
    "# save the name sets\n",
    "\n",
    "fields = ['SetID', 'Gender', 'Race', 'Popularity', 'Decade', 'Last', 'Rank', 'Count']\n",
    "with open('../Data/General/Input/names-last.csv', 'w') as file: \n",
    "    writer = csv.writer(file)\n",
    "    writer.writerow(fields)\n",
    "    \n",
    "    for set_id in range(1, len(sets_info)+1):\n",
    "        gender, race, popularity, decade = sets_info[set_id]\n",
    "        year = int(decade[:-1])\n",
    "        \n",
    "        for last in sets[set_id]:\n",
    "            rank, count = last_rank[last], last_count[last]\n",
    "            writer.writerow([set_id, gender, race, popularity, decade, last, rank, count])"
   ]
  }
 ],
 "metadata": {
  "kernelspec": {
   "display_name": "Python 3 (ipykernel)",
   "language": "python",
   "name": "python3"
  },
  "language_info": {
   "codemirror_mode": {
    "name": "ipython",
    "version": 3
   },
   "file_extension": ".py",
   "mimetype": "text/x-python",
   "name": "python",
   "nbconvert_exporter": "python",
   "pygments_lexer": "ipython3",
   "version": "3.10.9"
  }
 },
 "nbformat": 4,
 "nbformat_minor": 5
}
